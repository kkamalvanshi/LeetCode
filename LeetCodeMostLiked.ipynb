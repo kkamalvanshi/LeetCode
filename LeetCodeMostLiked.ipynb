{
  "nbformat": 4,
  "nbformat_minor": 0,
  "metadata": {
    "colab": {
      "name": "LeetCodeMostLiked.ipynb",
      "provenance": []
    },
    "kernelspec": {
      "name": "python3",
      "display_name": "Python 3"
    },
    "language_info": {
      "name": "python"
    }
  },
  "cells": [
    {
      "cell_type": "markdown",
      "source": [
        "2. Add Two Numbers"
      ],
      "metadata": {
        "id": "tdJJsRiODDc3"
      }
    },
    {
      "cell_type": "code",
      "execution_count": 1,
      "metadata": {
        "id": "5CuG6vgIb5jT"
      },
      "outputs": [],
      "source": [
        "class ListNode(object):\n",
        "  def __init__(self, val=0, next=None):\n",
        "    self.val = val\n",
        "    self.next = next"
      ]
    },
    {
      "cell_type": "code",
      "source": [
        "def addTwoNumbers(self, l1, l2):\n",
        "        \"\"\"\n",
        "        :type l1: ListNode\n",
        "        :type l2: ListNode\n",
        "        :rtype: ListNode\n",
        "        \"\"\"\n",
        "        dummy = ListNode()\n",
        "        cur = dummy\n",
        "        carry = 0\n",
        "        \n",
        "        while l1 or l2 or carry:\n",
        "            v1 = l1.val if l1 else 0\n",
        "            v2 = l2.val if l2 else 0\n",
        "            \n",
        "            val = v1 + v2 + carry\n",
        "            \n",
        "            carry = val//10\n",
        "            val = val%10\n",
        "            \n",
        "            cur.next = ListNode(val)\n",
        "            \n",
        "            cur = cur.next\n",
        "            \n",
        "            l1 = l1.next if l1 else None\n",
        "            l2 = l2.next if l2 else None\n",
        "            \n",
        "        return dummy.next"
      ],
      "metadata": {
        "id": "N7ZZSFq6cleJ"
      },
      "execution_count": null,
      "outputs": []
    },
    {
      "cell_type": "code",
      "source": [
        "num = 1\n",
        "num%10"
      ],
      "metadata": {
        "colab": {
          "base_uri": "https://localhost:8080/"
        },
        "id": "eTZATJESgeQN",
        "outputId": "d7a2e6cc-f3b3-47c2-cc77-bc806014e836"
      },
      "execution_count": 9,
      "outputs": [
        {
          "output_type": "execute_result",
          "data": {
            "text/plain": [
              "1"
            ]
          },
          "metadata": {},
          "execution_count": 9
        }
      ]
    },
    {
      "cell_type": "code",
      "source": [
        "list(\"hello\")"
      ],
      "metadata": {
        "colab": {
          "base_uri": "https://localhost:8080/"
        },
        "id": "AcL8Y_ulH8-P",
        "outputId": "8068477b-62ab-4fc3-cbec-cf340e8d515e"
      },
      "execution_count": 10,
      "outputs": [
        {
          "output_type": "execute_result",
          "data": {
            "text/plain": [
              "['h', 'e', 'l', 'l', 'o']"
            ]
          },
          "metadata": {},
          "execution_count": 10
        }
      ]
    },
    {
      "cell_type": "code",
      "source": [
        ""
      ],
      "metadata": {
        "id": "sAVua4xPH-cW"
      },
      "execution_count": null,
      "outputs": []
    },
    {
      "cell_type": "markdown",
      "source": [
        "3. Longest Substring Without Repeated Characters"
      ],
      "metadata": {
        "id": "qxK_QbymIZw8"
      }
    },
    {
      "cell_type": "code",
      "source": [
        "def lengthOfLongestSubstring(s):\n",
        "  ans = []\n",
        "  s = list(s)\n",
        "  p = 0\n",
        "\n",
        "  for i in range(len(s)):\n",
        "      cur = s[p:i]\n",
        "      dup = False\n",
        "      print(\"cur:\",cur)\n",
        "      print(len(set(cur)))\n",
        "      print(\"ans:\",ans)\n",
        "\n",
        "      if(len(set(cur)) < len(cur)):\n",
        "        print(\"duplicate is found\")\n",
        "        p = i - 1\n",
        "        dup = True\n",
        "\n",
        "\n",
        "      if((len(cur[:-1])>len(ans) and len(cur) > 1) or (len(cur)>len(ans)) and dup):\n",
        "        print(\"greater than ans\")\n",
        "        ans = cur[:-1]\n",
        "        print(ans)\n",
        "        print(\"replaced\")\n",
        "        print(ans)\n",
        "\n",
        "      print()\n",
        "              \n",
        "  return len(ans)\n",
        "        "
      ],
      "metadata": {
        "id": "zfuPNQ6oIeBI"
      },
      "execution_count": 76,
      "outputs": []
    },
    {
      "cell_type": "code",
      "source": [
        "def lengthOfLongestSubstring(s):\n",
        "  \n",
        "  s = list(s)\n",
        "  ans = [s[0]]\n",
        "  p = 0\n",
        "  dup = False\n",
        "  cur = []\n",
        "\n",
        "  for i in range(len(s)):\n",
        "    if (i>0):\n",
        "      cur = s[p:i]\n",
        "      print(\"cur: \",cur)\n",
        "      print(\"ans: \",ans)\n",
        "      if len(set(cur)) < len(cur):\n",
        "        print(\"duplicate found\")\n",
        "        if(len(cur[:-1])>len(ans)):\n",
        "          print(\"greater than\")\n",
        "          ans = cur[:-1]\n",
        "        p = i-1\n",
        "      elif(len(cur)>len(ans)):\n",
        "        ans = cur\n",
        "\n",
        "    print(\"new ans: \",ans)\n",
        "    print()\n",
        "\n",
        "  return len(ans)\n",
        "        "
      ],
      "metadata": {
        "id": "7e__FJurM70-"
      },
      "execution_count": 116,
      "outputs": []
    },
    {
      "cell_type": "code",
      "source": [
        "def lengthOfLongestSubstring(s):\n",
        "  \n",
        "  temp = \"\"\n",
        "  p=0\n",
        "\n",
        "  for i in range(p, len(s)+1):\n",
        "    print(\"cur: \", s[p:i])\n",
        "    if(len(set(s[p:i])) == len(s[p:i]) and len(s[p:i]) >= len(temp)):\n",
        "      print(\"new\")\n",
        "      temp = s[p:i]\n",
        "    else:\n",
        "      print(\"dup\")\n",
        "      p=p+1\n",
        "    print(temp)\n",
        "    print()\n",
        "  return len(temp)\n",
        "        "
      ],
      "metadata": {
        "id": "U4GVtFAPUxZp"
      },
      "execution_count": 146,
      "outputs": []
    },
    {
      "cell_type": "code",
      "source": [
        "def lengthOfLongestSubstring(s):\n",
        "  \n",
        "  charSet = set()\n",
        "  l = 0\n",
        "  res = 0\n",
        "  \n",
        "  for r in range(len(s)):\n",
        "    while s[r] in charSet:\n",
        "      charSet.remove(s[l])\n",
        "      l+=1\n",
        "    charSet.add(s[r])\n",
        "    res = max(res, len(charSet))\n",
        "\n",
        "  print(charSet)\n",
        "  return res\n",
        "        "
      ],
      "metadata": {
        "id": "Ifeg4zMUZq1Q"
      },
      "execution_count": 157,
      "outputs": []
    },
    {
      "cell_type": "code",
      "source": [
        "lengthOfLongestSubstring(\"pwwkew\")"
      ],
      "metadata": {
        "colab": {
          "base_uri": "https://localhost:8080/"
        },
        "id": "yYk4e-swVq0G",
        "outputId": "0cfb089c-047a-4083-9c3a-dc376510d1fa"
      },
      "execution_count": 158,
      "outputs": [
        {
          "output_type": "stream",
          "name": "stdout",
          "text": [
            "{'w', 'k', 'e'}\n"
          ]
        },
        {
          "output_type": "execute_result",
          "data": {
            "text/plain": [
              "3"
            ]
          },
          "metadata": {},
          "execution_count": 158
        }
      ]
    },
    {
      "cell_type": "code",
      "source": [
        "lengthOfLongestSubstring(\"au\")"
      ],
      "metadata": {
        "colab": {
          "base_uri": "https://localhost:8080/"
        },
        "id": "KDJ5fFcPJpLY",
        "outputId": "7b21a41b-8f72-4885-9c8b-35abe6835e14"
      },
      "execution_count": 159,
      "outputs": [
        {
          "output_type": "stream",
          "name": "stdout",
          "text": [
            "{'a', 'u'}\n"
          ]
        },
        {
          "output_type": "execute_result",
          "data": {
            "text/plain": [
              "2"
            ]
          },
          "metadata": {},
          "execution_count": 159
        }
      ]
    },
    {
      "cell_type": "code",
      "source": [
        "lengthOfLongestSubstring(\"abcabcbb\")"
      ],
      "metadata": {
        "colab": {
          "base_uri": "https://localhost:8080/"
        },
        "id": "tST5J4EIIh1n",
        "outputId": "35d526a4-e0e6-477d-dbfc-92f2ae76c492"
      },
      "execution_count": 160,
      "outputs": [
        {
          "output_type": "stream",
          "name": "stdout",
          "text": [
            "{'b'}\n"
          ]
        },
        {
          "output_type": "execute_result",
          "data": {
            "text/plain": [
              "3"
            ]
          },
          "metadata": {},
          "execution_count": 160
        }
      ]
    },
    {
      "cell_type": "code",
      "source": [
        "lengthOfLongestSubstring(\"bbbb\")"
      ],
      "metadata": {
        "colab": {
          "base_uri": "https://localhost:8080/"
        },
        "id": "IG-2qLyKIzwg",
        "outputId": "b9c469b7-a481-4fc3-ecf7-9907dd197ebd"
      },
      "execution_count": 161,
      "outputs": [
        {
          "output_type": "stream",
          "name": "stdout",
          "text": [
            "{'b'}\n"
          ]
        },
        {
          "output_type": "execute_result",
          "data": {
            "text/plain": [
              "1"
            ]
          },
          "metadata": {},
          "execution_count": 161
        }
      ]
    },
    {
      "cell_type": "code",
      "source": [
        "\n",
        "for i in range(1,4):\n",
        "  print(i)"
      ],
      "metadata": {
        "colab": {
          "base_uri": "https://localhost:8080/"
        },
        "id": "wy23llW9VfBZ",
        "outputId": "2c6ea7b6-6ee3-411b-d12f-89467b1a621d"
      },
      "execution_count": 150,
      "outputs": [
        {
          "output_type": "stream",
          "name": "stdout",
          "text": [
            "1\n",
            "2\n",
            "3\n"
          ]
        }
      ]
    }
  ]
}