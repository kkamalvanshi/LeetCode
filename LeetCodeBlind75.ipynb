{
  "nbformat": 4,
  "nbformat_minor": 0,
  "metadata": {
    "colab": {
      "name": "LeetCodeBlind75.ipynb",
      "provenance": []
    },
    "kernelspec": {
      "name": "python3",
      "display_name": "Python 3"
    },
    "language_info": {
      "name": "python"
    }
  },
  "cells": [
    {
      "cell_type": "markdown",
      "source": [
        "#1. Two Sum"
      ],
      "metadata": {
        "id": "Op6Y2twxhhbo"
      }
    },
    {
      "cell_type": "code",
      "source": [
        "def twoSum(nums, target):\n",
        "  \"\"\"\n",
        "  :type nums: List[int]\n",
        "  :type target: int\n",
        "  :rtype: List[int]\n",
        "  \"\"\"\n",
        "  #traditional\n",
        "  if len(nums) ==2:\n",
        "      if(sum(nums)==target):\n",
        "          return [0,1]\n",
        "      else:\n",
        "          return -1\n",
        "\n",
        "  for i in range(len(nums)):\n",
        "    for j in range(len(nums)):\n",
        "      print(i,j)\n",
        "      if i!=j:\n",
        "          if(nums[i]+nums[j]==target):\n",
        "              return [i,j]\n",
        "  return -1"
      ],
      "metadata": {
        "id": "Tl00zLf4hjxH"
      },
      "execution_count": 4,
      "outputs": []
    },
    {
      "cell_type": "code",
      "source": [
        "twoSum([1,2,11,5,3,21,22,8,7], 9)"
      ],
      "metadata": {
        "colab": {
          "base_uri": "https://localhost:8080/"
        },
        "id": "kP_rx6p0hm1N",
        "outputId": "04b22b36-8e37-4c53-e978-460ac7239760"
      },
      "execution_count": 8,
      "outputs": [
        {
          "output_type": "stream",
          "name": "stdout",
          "text": [
            "0 0\n",
            "0 1\n",
            "0 2\n",
            "0 3\n",
            "0 4\n",
            "0 5\n",
            "0 6\n",
            "0 7\n"
          ]
        },
        {
          "output_type": "execute_result",
          "data": {
            "text/plain": [
              "[0, 7]"
            ]
          },
          "metadata": {},
          "execution_count": 8
        }
      ]
    }
  ]
}